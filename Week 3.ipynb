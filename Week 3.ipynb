{
    "cells": [
        {
            "cell_type": "markdown",
            "metadata": {},
            "source": "# Dear review"
        },
        {
            "cell_type": "markdown",
            "metadata": {},
            "source": "# Capstone project - Where in Portland, Oregon, U.S.A. would be a good location to open a Korean restaurant? "
        },
        {
            "cell_type": "markdown",
            "metadata": {},
            "source": "## Data Science Certificate Capstone with IBM/Coursera: Dylan Amberson, March 5th, 2020"
        },
        {
            "cell_type": "markdown",
            "metadata": {},
            "source": "# Introduction: Business Problem"
        },
        {
            "cell_type": "markdown",
            "metadata": {},
            "source": "This notebook will give insight into where the best neighborhood to open a restaurant serving Korean food might be in Portland, Oregon. This notebook would be useful to those who are considering open a new restaurant and want to use data to help inform their site selection. \n\nPortland, Oregon has built a reputation as being a wonderful city for any range of foods. There are ample brew pubs and ice cream shops as well as a dynamic and eclatic food cart scene. Korean food is experiencing a growth in popularity in many big cities in America. According to **Tae Hong** at *chartermedia.com* (https://charactermedia.com/korean-restaurants-continue-growth-in-us-number-5000/):\n\n**\"In 2014, the National Restaurant Association ranked Korean food as No. 2 on its list of hottest ethnic cuisines.\"**\n\nA Korean restaurant is a great opportunity to expand this often overlooked class of food, especially in Portland where Vietnamese soup and Japanese sushi offerings far outweigh Korean kimchi jjigae and marinated galbi.\n\nThere are many ways to determine a good site for opening a restaurant. For this notebook I will consider how many people are in each neighborhood (potential customers) and how far that neighborhood is from an existing Korean restaurant.\n\n**In this notebook I will answer the question:**\n\n### Which neighborhood has the most people that are the farthest from an existing Korean restaurant?"
        },
        {
            "cell_type": "markdown",
            "metadata": {},
            "source": "# Data:\n\nWith our question now framed above, Let us discuss the data we will be using:\n\n    -A list of all the neighborhoods in Portland (https://gis-pdx.opendata.arcgis.com/search?tags=boundary)\n    \n    -Latitude and Longitude coordiantes for each neighborhood. I used this website to ensure correct returns on neighborhood searches. \n      (https://www.gps-latitude-longitude.com/address-to-longitude-latitude-gps-coordinates)\n      \n    -Population data for each neighborhood from the 2010 census. (https://www.gps-latitude-longitude.com/address-to-longitude-latitude-gps-coordinates)\n    \n    -Foursquare API will also be used to extract data on existing Korean restaurants in Portland, Oregon."
        },
        {
            "cell_type": "markdown",
            "metadata": {},
            "source": "### Let's start by importing our neighborhood data:\nFor this notebook's purpose, we will be using the neighborhood's names, as well the area in square feet. There is also the population for each neighborhood from the 2010 census. Because the neighborhoods are all different sizes, I need a density number to express how many people are in each square foot of the neighborhood. Dividing population by neighborhood size give the population density, people per square foot. "
        },
        {
            "cell_type": "code",
            "execution_count": null,
            "metadata": {},
            "outputs": [],
            "source": ""
        }
    ],
    "metadata": {
        "kernelspec": {
            "display_name": "Python 3.6",
            "language": "python",
            "name": "python3"
        },
        "language_info": {
            "codemirror_mode": {
                "name": "ipython",
                "version": 3
            },
            "file_extension": ".py",
            "mimetype": "text/x-python",
            "name": "python",
            "nbconvert_exporter": "python",
            "pygments_lexer": "ipython3",
            "version": "3.6.9"
        }
    },
    "nbformat": 4,
    "nbformat_minor": 1
}